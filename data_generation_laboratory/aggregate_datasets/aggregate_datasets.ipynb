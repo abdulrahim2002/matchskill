{
 "cells": [
  {
   "cell_type": "code",
   "execution_count": 1,
   "id": "671721e4-9416-40f7-a0ff-11cd7c59b3a3",
   "metadata": {},
   "outputs": [],
   "source": [
    "files = !cd .. && find . -name \"*.csv\" | grep \"outputs\""
   ]
  },
  {
   "cell_type": "code",
   "execution_count": 2,
   "id": "295e58f3-041e-4c97-9300-d53d83215410",
   "metadata": {},
   "outputs": [
    {
     "data": {
      "text/plain": [
       "['./jabref/outputs/prs_issues.csv',\n",
       " './audacity/outputs/prs_issues.csv',\n",
       " './rxjava/outputs/rxjava_prs_issues.csv',\n",
       " './guava/outputs/prs_issues.csv',\n",
       " './mokito/outputs/mokito_prs_issues.csv',\n",
       " './gson/outputs/prs_issues.csv',\n",
       " './eureka/outputs/prs_issues.csv']"
      ]
     },
     "execution_count": 2,
     "metadata": {},
     "output_type": "execute_result"
    }
   ],
   "source": [
    "files"
   ]
  },
  {
   "cell_type": "code",
   "execution_count": 3,
   "id": "3e2d9744-b42b-46e7-8a6b-bfcce648b991",
   "metadata": {},
   "outputs": [],
   "source": [
    "import pandas as pd\n",
    "all_datasets = [ pd.read_csv( '../' + file, delimiter=\"\\a\" ) for file in files ]"
   ]
  },
  {
   "cell_type": "code",
   "execution_count": 4,
   "id": "5452e693-d766-4932-816b-1a458005496d",
   "metadata": {},
   "outputs": [],
   "source": [
    "df = pd.concat( all_datasets, ignore_index = True )"
   ]
  },
  {
   "cell_type": "code",
   "execution_count": 5,
   "id": "2175c6cb-775e-4cfc-8962-c181014a660b",
   "metadata": {
    "scrolled": true
   },
   "outputs": [
    {
     "data": {
      "text/html": [
       "<div>\n",
       "<style scoped>\n",
       "    .dataframe tbody tr th:only-of-type {\n",
       "        vertical-align: middle;\n",
       "    }\n",
       "\n",
       "    .dataframe tbody tr th {\n",
       "        vertical-align: top;\n",
       "    }\n",
       "\n",
       "    .dataframe thead th {\n",
       "        text-align: right;\n",
       "    }\n",
       "</style>\n",
       "<table border=\"1\" class=\"dataframe\">\n",
       "  <thead>\n",
       "    <tr style=\"text-align: right;\">\n",
       "      <th></th>\n",
       "      <th>Issue_Number</th>\n",
       "      <th>PR_Number</th>\n",
       "      <th>Issue_Title</th>\n",
       "      <th>Issue_Body</th>\n",
       "      <th>Issue_Comments</th>\n",
       "      <th>PR_Title</th>\n",
       "      <th>PR_Body</th>\n",
       "      <th>PR_Comments</th>\n",
       "      <th>PR_Author_Name</th>\n",
       "      <th>PR_Author_Username</th>\n",
       "      <th>PR_Closed_Date</th>\n",
       "    </tr>\n",
       "  </thead>\n",
       "  <tbody>\n",
       "    <tr>\n",
       "      <th>0</th>\n",
       "      <td>959.0</td>\n",
       "      <td>12</td>\n",
       "      <td>Cleanup entries: Rely on \"field formatter\"</td>\n",
       "      <td>The first two cleanups can be achieved using t...</td>\n",
       "      <td>All the points are already fixed in the latest...</td>\n",
       "      <td>BugFix for #959 \"StringIndexOutOfBoundsExcepti...</td>\n",
       "      <td>Fixed #959 \"StringIndexOutOfBoundsException wi...</td>\n",
       "      <td>NaN</td>\n",
       "      <td>Ingvar Jackal</td>\n",
       "      <td>IngvarJackal</td>\n",
       "      <td>07/16/14, 06:57:22 PM</td>\n",
       "    </tr>\n",
       "    <tr>\n",
       "      <th>1</th>\n",
       "      <td>155.0</td>\n",
       "      <td>172</td>\n",
       "      <td>Consistent encoding strings</td>\n",
       "      <td>JabRef's [current encoding list](https://githu...</td>\n",
       "      <td>I fully agree with what you write and just had...</td>\n",
       "      <td>Fix encoding strings</td>\n",
       "      <td>Fixes #155</td>\n",
       "      <td>NaN</td>\n",
       "      <td>Jörg Lenhard</td>\n",
       "      <td>lenhard</td>\n",
       "      <td>09/18/15, 02:21:46 PM</td>\n",
       "    </tr>\n",
       "    <tr>\n",
       "      <th>2</th>\n",
       "      <td>290.0</td>\n",
       "      <td>300</td>\n",
       "      <td>SourceForge references</td>\n",
       "      <td>In PR #286 I have replaced most references to ...</td>\n",
       "      <td>http://jabref.sourceforge.net/journals/journal...</td>\n",
       "      <td>Fix #290 by removing the suggested url and text</td>\n",
       "      <td>Removes the reference to a missing file earlie...</td>\n",
       "      <td>NaN</td>\n",
       "      <td>Oscar Gustafsson</td>\n",
       "      <td>oscargus</td>\n",
       "      <td>11/07/15, 07:48:52 PM</td>\n",
       "    </tr>\n",
       "    <tr>\n",
       "      <th>3</th>\n",
       "      <td>498.0</td>\n",
       "      <td>452</td>\n",
       "      <td>Open pdf file when clicking pdf icon</td>\n",
       "      <td>NaN</td>\n",
       "      <td>... is working fine.\\n\\nSeriously, you expect ...</td>\n",
       "      <td>Revise maintable</td>\n",
       "      <td>Complete check and rewrite of MainTable and re...</td>\n",
       "      <td>NaN</td>\n",
       "      <td>Matthias Geiger</td>\n",
       "      <td>matthiasgeiger</td>\n",
       "      <td>12/15/15, 10:39:22 AM</td>\n",
       "    </tr>\n",
       "    <tr>\n",
       "      <th>4</th>\n",
       "      <td>545.0</td>\n",
       "      <td>595</td>\n",
       "      <td>JabRef 3.0: ACM Fetcher: Cannot parse number o...</td>\n",
       "      <td>When I do a search in the ACM in JabRef (no ma...</td>\n",
       "      <td>I can confirm this. I've started to see if I c...</td>\n",
       "      <td>Fixed #545 - ACM fetcher works again</td>\n",
       "      <td>Fixed #545 and some PMD cleanup.</td>\n",
       "      <td>NaN</td>\n",
       "      <td>Oscar Gustafsson</td>\n",
       "      <td>oscargus</td>\n",
       "      <td>12/28/15, 12:58:31 AM</td>\n",
       "    </tr>\n",
       "  </tbody>\n",
       "</table>\n",
       "</div>"
      ],
      "text/plain": [
       "   Issue_Number  PR_Number                                        Issue_Title  \\\n",
       "0         959.0         12         Cleanup entries: Rely on \"field formatter\"   \n",
       "1         155.0        172                        Consistent encoding strings   \n",
       "2         290.0        300                             SourceForge references   \n",
       "3         498.0        452               Open pdf file when clicking pdf icon   \n",
       "4         545.0        595  JabRef 3.0: ACM Fetcher: Cannot parse number o...   \n",
       "\n",
       "                                          Issue_Body  \\\n",
       "0  The first two cleanups can be achieved using t...   \n",
       "1  JabRef's [current encoding list](https://githu...   \n",
       "2  In PR #286 I have replaced most references to ...   \n",
       "3                                                NaN   \n",
       "4  When I do a search in the ACM in JabRef (no ma...   \n",
       "\n",
       "                                      Issue_Comments  \\\n",
       "0  All the points are already fixed in the latest...   \n",
       "1  I fully agree with what you write and just had...   \n",
       "2  http://jabref.sourceforge.net/journals/journal...   \n",
       "3  ... is working fine.\\n\\nSeriously, you expect ...   \n",
       "4  I can confirm this. I've started to see if I c...   \n",
       "\n",
       "                                            PR_Title  \\\n",
       "0  BugFix for #959 \"StringIndexOutOfBoundsExcepti...   \n",
       "1                               Fix encoding strings   \n",
       "2   Fix #290 by removing the suggested url and text    \n",
       "3                                   Revise maintable   \n",
       "4               Fixed #545 - ACM fetcher works again   \n",
       "\n",
       "                                             PR_Body  PR_Comments  \\\n",
       "0  Fixed #959 \"StringIndexOutOfBoundsException wi...          NaN   \n",
       "1                                         Fixes #155          NaN   \n",
       "2  Removes the reference to a missing file earlie...          NaN   \n",
       "3  Complete check and rewrite of MainTable and re...          NaN   \n",
       "4                   Fixed #545 and some PMD cleanup.          NaN   \n",
       "\n",
       "     PR_Author_Name PR_Author_Username         PR_Closed_Date  \n",
       "0     Ingvar Jackal       IngvarJackal  07/16/14, 06:57:22 PM  \n",
       "1      Jörg Lenhard            lenhard  09/18/15, 02:21:46 PM  \n",
       "2  Oscar Gustafsson           oscargus  11/07/15, 07:48:52 PM  \n",
       "3   Matthias Geiger     matthiasgeiger  12/15/15, 10:39:22 AM  \n",
       "4  Oscar Gustafsson           oscargus  12/28/15, 12:58:31 AM  "
      ]
     },
     "execution_count": 5,
     "metadata": {},
     "output_type": "execute_result"
    }
   ],
   "source": [
    "df.head()"
   ]
  },
  {
   "cell_type": "code",
   "execution_count": 7,
   "id": "670fd4b4-2006-4ffc-ba36-8a71192d9c4e",
   "metadata": {},
   "outputs": [
    {
     "name": "stdout",
     "output_type": "stream",
     "text": [
      "<class 'pandas.core.frame.DataFrame'>\n",
      "RangeIndex: 1219 entries, 0 to 1218\n",
      "Data columns (total 11 columns):\n",
      " #   Column              Non-Null Count  Dtype  \n",
      "---  ------              --------------  -----  \n",
      " 0   Issue_Number        1214 non-null   float64\n",
      " 1   PR_Number           1219 non-null   int64  \n",
      " 2   Issue_Title         1214 non-null   object \n",
      " 3   Issue_Body          1191 non-null   object \n",
      " 4   Issue_Comments      984 non-null    object \n",
      " 5   PR_Title            1219 non-null   object \n",
      " 6   PR_Body             1219 non-null   object \n",
      " 7   PR_Comments         0 non-null      float64\n",
      " 8   PR_Author_Name      1151 non-null   object \n",
      " 9   PR_Author_Username  1219 non-null   object \n",
      " 10  PR_Closed_Date      1219 non-null   object \n",
      "dtypes: float64(2), int64(1), object(8)\n",
      "memory usage: 104.9+ KB\n"
     ]
    }
   ],
   "source": [
    "df.info()"
   ]
  },
  {
   "cell_type": "code",
   "execution_count": 6,
   "id": "961dea28-de6c-43ef-b77e-c2b9875f01da",
   "metadata": {},
   "outputs": [],
   "source": [
    "df.to_csv( \"outputs/all_repos_pr_data.csv\", index = False, header = True, sep = \"\\a\", encoding = \"utf-8\" )"
   ]
  }
 ],
 "metadata": {
  "kernelspec": {
   "display_name": "Main Kernel (Python 3.12)",
   "language": "python",
   "name": "main"
  },
  "language_info": {
   "codemirror_mode": {
    "name": "ipython",
    "version": 3
   },
   "file_extension": ".py",
   "mimetype": "text/x-python",
   "name": "python",
   "nbconvert_exporter": "python",
   "pygments_lexer": "ipython3",
   "version": "3.12.10"
  }
 },
 "nbformat": 4,
 "nbformat_minor": 5
}
