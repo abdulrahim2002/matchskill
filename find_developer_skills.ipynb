{
 "cells": [
  {
   "cell_type": "markdown",
   "id": "743d8e3f-9314-4bc4-b565-403e97574bc1",
   "metadata": {},
   "source": [
    "## Using Ground Truth"
   ]
  },
  {
   "cell_type": "code",
   "execution_count": 1,
   "id": "9c5122ba-35ed-438d-b5bb-785e8c3f3dcd",
   "metadata": {},
   "outputs": [],
   "source": [
    "import pandas as pd\n",
    "\n",
    "df = pd.read_csv( \"output/ground_truth_with_RF_prediction.csv\", delimiter = \"\\a\" )"
   ]
  },
  {
   "cell_type": "code",
   "execution_count": 2,
   "id": "babbd453-91e6-475e-8d77-bf4402a1c922",
   "metadata": {},
   "outputs": [
    {
     "data": {
      "text/html": [
       "<div>\n",
       "<style scoped>\n",
       "    .dataframe tbody tr th:only-of-type {\n",
       "        vertical-align: middle;\n",
       "    }\n",
       "\n",
       "    .dataframe tbody tr th {\n",
       "        vertical-align: top;\n",
       "    }\n",
       "\n",
       "    .dataframe thead th {\n",
       "        text-align: right;\n",
       "    }\n",
       "</style>\n",
       "<table border=\"1\" class=\"dataframe\">\n",
       "  <thead>\n",
       "    <tr style=\"text-align: right;\">\n",
       "      <th></th>\n",
       "      <th>PR_Author_Name</th>\n",
       "      <th>PR_Author_Username</th>\n",
       "      <th>Ground_Truth</th>\n",
       "    </tr>\n",
       "  </thead>\n",
       "  <tbody>\n",
       "    <tr>\n",
       "      <th>0</th>\n",
       "      <td>Ingvar Jackal</td>\n",
       "      <td>IngvarJackal</td>\n",
       "      <td>['Databases-Database Security', 'Data Structur...</td>\n",
       "    </tr>\n",
       "    <tr>\n",
       "      <th>1</th>\n",
       "      <td>Jörg Lenhard</td>\n",
       "      <td>lenhard</td>\n",
       "      <td>['Databases-Database Security', 'Error Handlin...</td>\n",
       "    </tr>\n",
       "    <tr>\n",
       "      <th>2</th>\n",
       "      <td>Oscar Gustafsson</td>\n",
       "      <td>oscargus</td>\n",
       "      <td>['Databases-Database Security', 'Error Handlin...</td>\n",
       "    </tr>\n",
       "    <tr>\n",
       "      <th>3</th>\n",
       "      <td>Oscar Gustafsson</td>\n",
       "      <td>oscargus</td>\n",
       "      <td>['Databases-Database Security', 'Error Handlin...</td>\n",
       "    </tr>\n",
       "    <tr>\n",
       "      <th>4</th>\n",
       "      <td>Jörg Lenhard</td>\n",
       "      <td>lenhard</td>\n",
       "      <td>['Databases-Database Security', 'Error Handlin...</td>\n",
       "    </tr>\n",
       "  </tbody>\n",
       "</table>\n",
       "</div>"
      ],
      "text/plain": [
       "     PR_Author_Name PR_Author_Username  \\\n",
       "0     Ingvar Jackal       IngvarJackal   \n",
       "1      Jörg Lenhard            lenhard   \n",
       "2  Oscar Gustafsson           oscargus   \n",
       "3  Oscar Gustafsson           oscargus   \n",
       "4      Jörg Lenhard            lenhard   \n",
       "\n",
       "                                        Ground_Truth  \n",
       "0  ['Databases-Database Security', 'Data Structur...  \n",
       "1  ['Databases-Database Security', 'Error Handlin...  \n",
       "2  ['Databases-Database Security', 'Error Handlin...  \n",
       "3  ['Databases-Database Security', 'Error Handlin...  \n",
       "4  ['Databases-Database Security', 'Error Handlin...  "
      ]
     },
     "execution_count": 2,
     "metadata": {},
     "output_type": "execute_result"
    }
   ],
   "source": [
    "df = df[ [ \"PR_Author_Name\", \"PR_Author_Username\", \"Ground_Truth\" ] ]\n",
    "df.head()"
   ]
  },
  {
   "cell_type": "code",
   "execution_count": 3,
   "id": "823bf278-22cb-4fa4-92a4-01f2b40e180a",
   "metadata": {},
   "outputs": [],
   "source": [
    "import ast\n",
    "df[\"Ground_Truth\"] = df[\"Ground_Truth\"].apply(ast.literal_eval)"
   ]
  },
  {
   "cell_type": "code",
   "execution_count": 4,
   "id": "cd1fae2b-fa65-444a-82a2-2da685a18a44",
   "metadata": {},
   "outputs": [
    {
     "data": {
      "text/html": [
       "<div>\n",
       "<style scoped>\n",
       "    .dataframe tbody tr th:only-of-type {\n",
       "        vertical-align: middle;\n",
       "    }\n",
       "\n",
       "    .dataframe tbody tr th {\n",
       "        vertical-align: top;\n",
       "    }\n",
       "\n",
       "    .dataframe thead th {\n",
       "        text-align: right;\n",
       "    }\n",
       "</style>\n",
       "<table border=\"1\" class=\"dataframe\">\n",
       "  <thead>\n",
       "    <tr style=\"text-align: right;\">\n",
       "      <th></th>\n",
       "      <th>PR_Author_Name</th>\n",
       "      <th>PR_Author_Username</th>\n",
       "      <th>Ground_Truth</th>\n",
       "    </tr>\n",
       "  </thead>\n",
       "  <tbody>\n",
       "    <tr>\n",
       "      <th>0</th>\n",
       "      <td>Ingvar Jackal</td>\n",
       "      <td>IngvarJackal</td>\n",
       "      <td>Databases-Database Security</td>\n",
       "    </tr>\n",
       "    <tr>\n",
       "      <th>0</th>\n",
       "      <td>Ingvar Jackal</td>\n",
       "      <td>IngvarJackal</td>\n",
       "      <td>Data Structure-Data Sorting</td>\n",
       "    </tr>\n",
       "    <tr>\n",
       "      <th>0</th>\n",
       "      <td>Ingvar Jackal</td>\n",
       "      <td>IngvarJackal</td>\n",
       "      <td>Error Handling-Exception Handling</td>\n",
       "    </tr>\n",
       "    <tr>\n",
       "      <th>1</th>\n",
       "      <td>Jörg Lenhard</td>\n",
       "      <td>lenhard</td>\n",
       "      <td>Databases-Database Security</td>\n",
       "    </tr>\n",
       "    <tr>\n",
       "      <th>1</th>\n",
       "      <td>Jörg Lenhard</td>\n",
       "      <td>lenhard</td>\n",
       "      <td>Error Handling-Exception Handling</td>\n",
       "    </tr>\n",
       "  </tbody>\n",
       "</table>\n",
       "</div>"
      ],
      "text/plain": [
       "  PR_Author_Name PR_Author_Username                       Ground_Truth\n",
       "0  Ingvar Jackal       IngvarJackal        Databases-Database Security\n",
       "0  Ingvar Jackal       IngvarJackal        Data Structure-Data Sorting\n",
       "0  Ingvar Jackal       IngvarJackal  Error Handling-Exception Handling\n",
       "1   Jörg Lenhard            lenhard        Databases-Database Security\n",
       "1   Jörg Lenhard            lenhard  Error Handling-Exception Handling"
      ]
     },
     "execution_count": 4,
     "metadata": {},
     "output_type": "execute_result"
    }
   ],
   "source": [
    "df = df.explode(\"Ground_Truth\")\n",
    "df.head()"
   ]
  },
  {
   "cell_type": "code",
   "execution_count": 5,
   "id": "0e609ac0-b7c8-435d-9e15-0489af617266",
   "metadata": {},
   "outputs": [
    {
     "name": "stdout",
     "output_type": "stream",
     "text": [
      "<class 'pandas.core.frame.DataFrame'>\n",
      "Index: 1719 entries, 0 to 572\n",
      "Data columns (total 3 columns):\n",
      " #   Column              Non-Null Count  Dtype \n",
      "---  ------              --------------  ----- \n",
      " 0   PR_Author_Name      1599 non-null   object\n",
      " 1   PR_Author_Username  1719 non-null   object\n",
      " 2   Ground_Truth        1719 non-null   object\n",
      "dtypes: object(3)\n",
      "memory usage: 53.7+ KB\n"
     ]
    }
   ],
   "source": [
    "df.info()"
   ]
  },
  {
   "cell_type": "code",
   "execution_count": 6,
   "id": "5e0e8c98-5212-4ade-987e-a278a97afad4",
   "metadata": {},
   "outputs": [
    {
     "data": {
      "text/html": [
       "<div>\n",
       "<style scoped>\n",
       "    .dataframe tbody tr th:only-of-type {\n",
       "        vertical-align: middle;\n",
       "    }\n",
       "\n",
       "    .dataframe tbody tr th {\n",
       "        vertical-align: top;\n",
       "    }\n",
       "\n",
       "    .dataframe thead th {\n",
       "        text-align: right;\n",
       "    }\n",
       "</style>\n",
       "<table border=\"1\" class=\"dataframe\">\n",
       "  <thead>\n",
       "    <tr style=\"text-align: right;\">\n",
       "      <th></th>\n",
       "      <th>PR_Author_Username</th>\n",
       "      <th>Ground_Truth</th>\n",
       "    </tr>\n",
       "  </thead>\n",
       "  <tbody>\n",
       "    <tr>\n",
       "      <th>0</th>\n",
       "      <td>AlexanderGirgis</td>\n",
       "      <td>[Databases-Database Security, Error Handling-E...</td>\n",
       "    </tr>\n",
       "    <tr>\n",
       "      <th>1</th>\n",
       "      <td>Ali96kz</td>\n",
       "      <td>[Databases-Database Security, Error Handling-E...</td>\n",
       "    </tr>\n",
       "    <tr>\n",
       "      <th>2</th>\n",
       "      <td>Andrew-Lev</td>\n",
       "      <td>[Databases-Database Security, Error Handling-E...</td>\n",
       "    </tr>\n",
       "    <tr>\n",
       "      <th>3</th>\n",
       "      <td>BJaroszkowski</td>\n",
       "      <td>[Databases-Database Security, Data Structure-D...</td>\n",
       "    </tr>\n",
       "    <tr>\n",
       "      <th>4</th>\n",
       "      <td>Brainsucker92</td>\n",
       "      <td>[Databases-Database Security, Data Structure-D...</td>\n",
       "    </tr>\n",
       "  </tbody>\n",
       "</table>\n",
       "</div>"
      ],
      "text/plain": [
       "  PR_Author_Username                                       Ground_Truth\n",
       "0    AlexanderGirgis  [Databases-Database Security, Error Handling-E...\n",
       "1            Ali96kz  [Databases-Database Security, Error Handling-E...\n",
       "2         Andrew-Lev  [Databases-Database Security, Error Handling-E...\n",
       "3      BJaroszkowski  [Databases-Database Security, Data Structure-D...\n",
       "4      Brainsucker92  [Databases-Database Security, Data Structure-D..."
      ]
     },
     "execution_count": 6,
     "metadata": {},
     "output_type": "execute_result"
    }
   ],
   "source": [
    "skills_using_GT = df.groupby( [ 'PR_Author_Username'] )['Ground_Truth'].agg(list).reset_index()\n",
    "skills_using_GT.head()"
   ]
  },
  {
   "cell_type": "code",
   "execution_count": 7,
   "id": "6bebe47d-8d43-43b8-9971-bd7ffaba0fb4",
   "metadata": {},
   "outputs": [],
   "source": [
    "skills_using_GT.to_csv(\"output/developer_skills_using_GT.csv\", index = False, header = True, sep=\",\")"
   ]
  },
  {
   "cell_type": "markdown",
   "id": "966abdec-4bd1-47e8-b8d2-f31eb3e49acc",
   "metadata": {},
   "source": [
    "## Using RF Predictions"
   ]
  },
  {
   "cell_type": "code",
   "execution_count": 8,
   "id": "4c1810f1-dcf1-4c38-ad28-90ddaefd0b00",
   "metadata": {},
   "outputs": [],
   "source": [
    "df = pd.read_csv( \"output/ground_truth_with_RF_prediction.csv\", delimiter = \"\\a\" )"
   ]
  },
  {
   "cell_type": "code",
   "execution_count": 9,
   "id": "ddf5dba0-cabb-48e6-872f-b42283775265",
   "metadata": {},
   "outputs": [
    {
     "data": {
      "text/html": [
       "<div>\n",
       "<style scoped>\n",
       "    .dataframe tbody tr th:only-of-type {\n",
       "        vertical-align: middle;\n",
       "    }\n",
       "\n",
       "    .dataframe tbody tr th {\n",
       "        vertical-align: top;\n",
       "    }\n",
       "\n",
       "    .dataframe thead th {\n",
       "        text-align: right;\n",
       "    }\n",
       "</style>\n",
       "<table border=\"1\" class=\"dataframe\">\n",
       "  <thead>\n",
       "    <tr style=\"text-align: right;\">\n",
       "      <th></th>\n",
       "      <th>PR_Author_Name</th>\n",
       "      <th>PR_Author_Username</th>\n",
       "      <th>RF_Predictions</th>\n",
       "    </tr>\n",
       "  </thead>\n",
       "  <tbody>\n",
       "    <tr>\n",
       "      <th>0</th>\n",
       "      <td>Ingvar Jackal</td>\n",
       "      <td>IngvarJackal</td>\n",
       "      <td>['Databases-Backup and Recovery', 'Application...</td>\n",
       "    </tr>\n",
       "    <tr>\n",
       "      <th>1</th>\n",
       "      <td>Jörg Lenhard</td>\n",
       "      <td>lenhard</td>\n",
       "      <td>['Databases-Backup and Recovery', 'Application...</td>\n",
       "    </tr>\n",
       "    <tr>\n",
       "      <th>2</th>\n",
       "      <td>Oscar Gustafsson</td>\n",
       "      <td>oscargus</td>\n",
       "      <td>['Software Development and IT Operations-Confi...</td>\n",
       "    </tr>\n",
       "    <tr>\n",
       "      <th>3</th>\n",
       "      <td>Oscar Gustafsson</td>\n",
       "      <td>oscargus</td>\n",
       "      <td>['Databases-Backup and Recovery', 'Application...</td>\n",
       "    </tr>\n",
       "    <tr>\n",
       "      <th>4</th>\n",
       "      <td>Jörg Lenhard</td>\n",
       "      <td>lenhard</td>\n",
       "      <td>['Software Development and IT Operations-Confi...</td>\n",
       "    </tr>\n",
       "  </tbody>\n",
       "</table>\n",
       "</div>"
      ],
      "text/plain": [
       "     PR_Author_Name PR_Author_Username  \\\n",
       "0     Ingvar Jackal       IngvarJackal   \n",
       "1      Jörg Lenhard            lenhard   \n",
       "2  Oscar Gustafsson           oscargus   \n",
       "3  Oscar Gustafsson           oscargus   \n",
       "4      Jörg Lenhard            lenhard   \n",
       "\n",
       "                                      RF_Predictions  \n",
       "0  ['Databases-Backup and Recovery', 'Application...  \n",
       "1  ['Databases-Backup and Recovery', 'Application...  \n",
       "2  ['Software Development and IT Operations-Confi...  \n",
       "3  ['Databases-Backup and Recovery', 'Application...  \n",
       "4  ['Software Development and IT Operations-Confi...  "
      ]
     },
     "execution_count": 9,
     "metadata": {},
     "output_type": "execute_result"
    }
   ],
   "source": [
    "df = df[ [ \"PR_Author_Name\", \"PR_Author_Username\", \"RF_Predictions\" ] ]\n",
    "df.head()"
   ]
  },
  {
   "cell_type": "code",
   "execution_count": 10,
   "id": "51a03dfc-6324-4504-8a72-87c63fec4a4f",
   "metadata": {},
   "outputs": [],
   "source": [
    "import ast\n",
    "df[\"RF_Predictions\"] = df[\"RF_Predictions\"].apply( ast.literal_eval )"
   ]
  },
  {
   "cell_type": "code",
   "execution_count": 11,
   "id": "9b5355ec-b6bd-47d1-928c-63d0170b91ee",
   "metadata": {},
   "outputs": [
    {
     "data": {
      "text/html": [
       "<div>\n",
       "<style scoped>\n",
       "    .dataframe tbody tr th:only-of-type {\n",
       "        vertical-align: middle;\n",
       "    }\n",
       "\n",
       "    .dataframe tbody tr th {\n",
       "        vertical-align: top;\n",
       "    }\n",
       "\n",
       "    .dataframe thead th {\n",
       "        text-align: right;\n",
       "    }\n",
       "</style>\n",
       "<table border=\"1\" class=\"dataframe\">\n",
       "  <thead>\n",
       "    <tr style=\"text-align: right;\">\n",
       "      <th></th>\n",
       "      <th>PR_Author_Name</th>\n",
       "      <th>PR_Author_Username</th>\n",
       "      <th>RF_Predictions</th>\n",
       "    </tr>\n",
       "  </thead>\n",
       "  <tbody>\n",
       "    <tr>\n",
       "      <th>0</th>\n",
       "      <td>Ingvar Jackal</td>\n",
       "      <td>IngvarJackal</td>\n",
       "      <td>Databases-Backup and Recovery</td>\n",
       "    </tr>\n",
       "    <tr>\n",
       "      <th>0</th>\n",
       "      <td>Ingvar Jackal</td>\n",
       "      <td>IngvarJackal</td>\n",
       "      <td>Application-Version Control</td>\n",
       "    </tr>\n",
       "    <tr>\n",
       "      <th>0</th>\n",
       "      <td>Ingvar Jackal</td>\n",
       "      <td>IngvarJackal</td>\n",
       "      <td>Software Development and IT Operations-Configu...</td>\n",
       "    </tr>\n",
       "    <tr>\n",
       "      <th>1</th>\n",
       "      <td>Jörg Lenhard</td>\n",
       "      <td>lenhard</td>\n",
       "      <td>Databases-Backup and Recovery</td>\n",
       "    </tr>\n",
       "    <tr>\n",
       "      <th>1</th>\n",
       "      <td>Jörg Lenhard</td>\n",
       "      <td>lenhard</td>\n",
       "      <td>Application-Version Control</td>\n",
       "    </tr>\n",
       "  </tbody>\n",
       "</table>\n",
       "</div>"
      ],
      "text/plain": [
       "  PR_Author_Name PR_Author_Username  \\\n",
       "0  Ingvar Jackal       IngvarJackal   \n",
       "0  Ingvar Jackal       IngvarJackal   \n",
       "0  Ingvar Jackal       IngvarJackal   \n",
       "1   Jörg Lenhard            lenhard   \n",
       "1   Jörg Lenhard            lenhard   \n",
       "\n",
       "                                      RF_Predictions  \n",
       "0                      Databases-Backup and Recovery  \n",
       "0                        Application-Version Control  \n",
       "0  Software Development and IT Operations-Configu...  \n",
       "1                      Databases-Backup and Recovery  \n",
       "1                        Application-Version Control  "
      ]
     },
     "execution_count": 11,
     "metadata": {},
     "output_type": "execute_result"
    }
   ],
   "source": [
    "df = df.explode(\"RF_Predictions\")\n",
    "df.head()"
   ]
  },
  {
   "cell_type": "code",
   "execution_count": 12,
   "id": "c6392615-76a7-4bf6-9f63-2ece90f76dfd",
   "metadata": {},
   "outputs": [
    {
     "name": "stdout",
     "output_type": "stream",
     "text": [
      "<class 'pandas.core.frame.DataFrame'>\n",
      "Index: 1719 entries, 0 to 572\n",
      "Data columns (total 3 columns):\n",
      " #   Column              Non-Null Count  Dtype \n",
      "---  ------              --------------  ----- \n",
      " 0   PR_Author_Name      1599 non-null   object\n",
      " 1   PR_Author_Username  1719 non-null   object\n",
      " 2   RF_Predictions      1719 non-null   object\n",
      "dtypes: object(3)\n",
      "memory usage: 53.7+ KB\n"
     ]
    }
   ],
   "source": [
    "df.info()"
   ]
  },
  {
   "cell_type": "code",
   "execution_count": 13,
   "id": "b417c997-2cb8-4d78-8d47-701f73e377d2",
   "metadata": {},
   "outputs": [
    {
     "data": {
      "text/html": [
       "<div>\n",
       "<style scoped>\n",
       "    .dataframe tbody tr th:only-of-type {\n",
       "        vertical-align: middle;\n",
       "    }\n",
       "\n",
       "    .dataframe tbody tr th {\n",
       "        vertical-align: top;\n",
       "    }\n",
       "\n",
       "    .dataframe thead th {\n",
       "        text-align: right;\n",
       "    }\n",
       "</style>\n",
       "<table border=\"1\" class=\"dataframe\">\n",
       "  <thead>\n",
       "    <tr style=\"text-align: right;\">\n",
       "      <th></th>\n",
       "      <th>PR_Author_Username</th>\n",
       "      <th>RF_Predictions</th>\n",
       "    </tr>\n",
       "  </thead>\n",
       "  <tbody>\n",
       "    <tr>\n",
       "      <th>0</th>\n",
       "      <td>AlexanderGirgis</td>\n",
       "      <td>[Databases-Backup and Recovery, Application-Ve...</td>\n",
       "    </tr>\n",
       "    <tr>\n",
       "      <th>1</th>\n",
       "      <td>Ali96kz</td>\n",
       "      <td>[Software Development and IT Operations-Config...</td>\n",
       "    </tr>\n",
       "    <tr>\n",
       "      <th>2</th>\n",
       "      <td>Andrew-Lev</td>\n",
       "      <td>[Software Development and IT Operations-Config...</td>\n",
       "    </tr>\n",
       "    <tr>\n",
       "      <th>3</th>\n",
       "      <td>BJaroszkowski</td>\n",
       "      <td>[Software Development and IT Operations-Config...</td>\n",
       "    </tr>\n",
       "    <tr>\n",
       "      <th>4</th>\n",
       "      <td>Brainsucker92</td>\n",
       "      <td>[Databases-Backup and Recovery, Application-Ve...</td>\n",
       "    </tr>\n",
       "  </tbody>\n",
       "</table>\n",
       "</div>"
      ],
      "text/plain": [
       "  PR_Author_Username                                     RF_Predictions\n",
       "0    AlexanderGirgis  [Databases-Backup and Recovery, Application-Ve...\n",
       "1            Ali96kz  [Software Development and IT Operations-Config...\n",
       "2         Andrew-Lev  [Software Development and IT Operations-Config...\n",
       "3      BJaroszkowski  [Software Development and IT Operations-Config...\n",
       "4      Brainsucker92  [Databases-Backup and Recovery, Application-Ve..."
      ]
     },
     "execution_count": 13,
     "metadata": {},
     "output_type": "execute_result"
    }
   ],
   "source": [
    "skills_using_RF = df.groupby( [ 'PR_Author_Username'] )['RF_Predictions'].agg(list).reset_index()\n",
    "skills_using_RF.head()"
   ]
  },
  {
   "cell_type": "code",
   "execution_count": 14,
   "id": "efc1052f-37b4-457a-bf7d-b9867cc02501",
   "metadata": {},
   "outputs": [],
   "source": [
    "skills_using_RF.to_csv(\"output/developer_skills_using_RF.csv\", index = False, header = True, sep=\",\")"
   ]
  },
  {
   "cell_type": "markdown",
   "id": "bae84715-fbe2-4069-bc90-b95507f9efa2",
   "metadata": {},
   "source": [
    "## Use aggregated projects data"
   ]
  },
  {
   "cell_type": "code",
   "execution_count": 18,
   "id": "712e3b29-fc0f-40fe-91b5-b8e00f48b03d",
   "metadata": {},
   "outputs": [],
   "source": [
    "df = pd.read_csv( \"output/GT_and_RF_predictions_all_repositories.csv\", \n",
    "                delimiter = \"\\a\" )"
   ]
  },
  {
   "cell_type": "code",
   "execution_count": 19,
   "id": "c9904917-9f1f-4d69-bba4-2504df4c89e2",
   "metadata": {},
   "outputs": [
    {
     "data": {
      "text/html": [
       "<div>\n",
       "<style scoped>\n",
       "    .dataframe tbody tr th:only-of-type {\n",
       "        vertical-align: middle;\n",
       "    }\n",
       "\n",
       "    .dataframe tbody tr th {\n",
       "        vertical-align: top;\n",
       "    }\n",
       "\n",
       "    .dataframe thead th {\n",
       "        text-align: right;\n",
       "    }\n",
       "</style>\n",
       "<table border=\"1\" class=\"dataframe\">\n",
       "  <thead>\n",
       "    <tr style=\"text-align: right;\">\n",
       "      <th></th>\n",
       "      <th>PR_Author_Name</th>\n",
       "      <th>PR_Author_Username</th>\n",
       "      <th>Ground_Truth</th>\n",
       "    </tr>\n",
       "  </thead>\n",
       "  <tbody>\n",
       "    <tr>\n",
       "      <th>0</th>\n",
       "      <td>Ingvar Jackal</td>\n",
       "      <td>IngvarJackal</td>\n",
       "      <td>['Databases-Database Security', 'Data Structur...</td>\n",
       "    </tr>\n",
       "    <tr>\n",
       "      <th>1</th>\n",
       "      <td>Jörg Lenhard</td>\n",
       "      <td>lenhard</td>\n",
       "      <td>['Databases-Database Security', 'Error Handlin...</td>\n",
       "    </tr>\n",
       "    <tr>\n",
       "      <th>2</th>\n",
       "      <td>Oscar Gustafsson</td>\n",
       "      <td>oscargus</td>\n",
       "      <td>['Databases-Database Security', 'Error Handlin...</td>\n",
       "    </tr>\n",
       "    <tr>\n",
       "      <th>3</th>\n",
       "      <td>Oscar Gustafsson</td>\n",
       "      <td>oscargus</td>\n",
       "      <td>['Databases-Database Security', 'Error Handlin...</td>\n",
       "    </tr>\n",
       "    <tr>\n",
       "      <th>4</th>\n",
       "      <td>Jörg Lenhard</td>\n",
       "      <td>lenhard</td>\n",
       "      <td>['Databases-Database Security', 'Error Handlin...</td>\n",
       "    </tr>\n",
       "  </tbody>\n",
       "</table>\n",
       "</div>"
      ],
      "text/plain": [
       "     PR_Author_Name PR_Author_Username  \\\n",
       "0     Ingvar Jackal       IngvarJackal   \n",
       "1      Jörg Lenhard            lenhard   \n",
       "2  Oscar Gustafsson           oscargus   \n",
       "3  Oscar Gustafsson           oscargus   \n",
       "4      Jörg Lenhard            lenhard   \n",
       "\n",
       "                                        Ground_Truth  \n",
       "0  ['Databases-Database Security', 'Data Structur...  \n",
       "1  ['Databases-Database Security', 'Error Handlin...  \n",
       "2  ['Databases-Database Security', 'Error Handlin...  \n",
       "3  ['Databases-Database Security', 'Error Handlin...  \n",
       "4  ['Databases-Database Security', 'Error Handlin...  "
      ]
     },
     "execution_count": 19,
     "metadata": {},
     "output_type": "execute_result"
    }
   ],
   "source": [
    "df = df[ [ \"PR_Author_Name\", \"PR_Author_Username\", \"Ground_Truth\" ] ]\n",
    "df.head()"
   ]
  },
  {
   "cell_type": "code",
   "execution_count": 20,
   "id": "9730a273-c494-4a85-8147-5488d0370118",
   "metadata": {},
   "outputs": [],
   "source": [
    "import ast\n",
    "df[\"Ground_Truth\"] = df[\"Ground_Truth\"].apply(ast.literal_eval)"
   ]
  },
  {
   "cell_type": "code",
   "execution_count": null,
   "id": "e4063ed3-99bf-4b9d-9396-b3122bcbc3ad",
   "metadata": {},
   "outputs": [],
   "source": [
    "df = df[ [ \"PR_Author_Name\", \"PR_Author_Username\", \"Ground_Truth\" ] ]\n",
    "df.head()"
   ]
  },
  {
   "cell_type": "code",
   "execution_count": 21,
   "id": "3b759e09-9843-4544-88bb-db643ee1d4c9",
   "metadata": {},
   "outputs": [
    {
     "data": {
      "text/html": [
       "<div>\n",
       "<style scoped>\n",
       "    .dataframe tbody tr th:only-of-type {\n",
       "        vertical-align: middle;\n",
       "    }\n",
       "\n",
       "    .dataframe tbody tr th {\n",
       "        vertical-align: top;\n",
       "    }\n",
       "\n",
       "    .dataframe thead th {\n",
       "        text-align: right;\n",
       "    }\n",
       "</style>\n",
       "<table border=\"1\" class=\"dataframe\">\n",
       "  <thead>\n",
       "    <tr style=\"text-align: right;\">\n",
       "      <th></th>\n",
       "      <th>PR_Author_Name</th>\n",
       "      <th>PR_Author_Username</th>\n",
       "      <th>Ground_Truth</th>\n",
       "    </tr>\n",
       "  </thead>\n",
       "  <tbody>\n",
       "    <tr>\n",
       "      <th>0</th>\n",
       "      <td>Ingvar Jackal</td>\n",
       "      <td>IngvarJackal</td>\n",
       "      <td>Databases-Database Security</td>\n",
       "    </tr>\n",
       "    <tr>\n",
       "      <th>0</th>\n",
       "      <td>Ingvar Jackal</td>\n",
       "      <td>IngvarJackal</td>\n",
       "      <td>Data Structure-Data Sorting</td>\n",
       "    </tr>\n",
       "    <tr>\n",
       "      <th>0</th>\n",
       "      <td>Ingvar Jackal</td>\n",
       "      <td>IngvarJackal</td>\n",
       "      <td>Error Handling-Exception Handling</td>\n",
       "    </tr>\n",
       "    <tr>\n",
       "      <th>1</th>\n",
       "      <td>Jörg Lenhard</td>\n",
       "      <td>lenhard</td>\n",
       "      <td>Databases-Database Security</td>\n",
       "    </tr>\n",
       "    <tr>\n",
       "      <th>1</th>\n",
       "      <td>Jörg Lenhard</td>\n",
       "      <td>lenhard</td>\n",
       "      <td>Error Handling-Exception Handling</td>\n",
       "    </tr>\n",
       "  </tbody>\n",
       "</table>\n",
       "</div>"
      ],
      "text/plain": [
       "  PR_Author_Name PR_Author_Username                       Ground_Truth\n",
       "0  Ingvar Jackal       IngvarJackal        Databases-Database Security\n",
       "0  Ingvar Jackal       IngvarJackal        Data Structure-Data Sorting\n",
       "0  Ingvar Jackal       IngvarJackal  Error Handling-Exception Handling\n",
       "1   Jörg Lenhard            lenhard        Databases-Database Security\n",
       "1   Jörg Lenhard            lenhard  Error Handling-Exception Handling"
      ]
     },
     "execution_count": 21,
     "metadata": {},
     "output_type": "execute_result"
    }
   ],
   "source": [
    "df = df.explode(\"Ground_Truth\")\n",
    "df.head()"
   ]
  },
  {
   "cell_type": "code",
   "execution_count": 22,
   "id": "b0abd003-f2ac-4dc7-b0b7-76ebb086adb9",
   "metadata": {},
   "outputs": [
    {
     "name": "stdout",
     "output_type": "stream",
     "text": [
      "<class 'pandas.core.frame.DataFrame'>\n",
      "Index: 1497 entries, 0 to 498\n",
      "Data columns (total 3 columns):\n",
      " #   Column              Non-Null Count  Dtype \n",
      "---  ------              --------------  ----- \n",
      " 0   PR_Author_Name      1422 non-null   object\n",
      " 1   PR_Author_Username  1497 non-null   object\n",
      " 2   Ground_Truth        1497 non-null   object\n",
      "dtypes: object(3)\n",
      "memory usage: 46.8+ KB\n"
     ]
    }
   ],
   "source": [
    "df.info()"
   ]
  },
  {
   "cell_type": "code",
   "execution_count": 24,
   "id": "5a9817bb-8177-4afd-bf54-542caaf4f247",
   "metadata": {},
   "outputs": [
    {
     "data": {
      "text/html": [
       "<div>\n",
       "<style scoped>\n",
       "    .dataframe tbody tr th:only-of-type {\n",
       "        vertical-align: middle;\n",
       "    }\n",
       "\n",
       "    .dataframe tbody tr th {\n",
       "        vertical-align: top;\n",
       "    }\n",
       "\n",
       "    .dataframe thead th {\n",
       "        text-align: right;\n",
       "    }\n",
       "</style>\n",
       "<table border=\"1\" class=\"dataframe\">\n",
       "  <thead>\n",
       "    <tr style=\"text-align: right;\">\n",
       "      <th></th>\n",
       "      <th>PR_Author_Username</th>\n",
       "      <th>Ground_Truth</th>\n",
       "    </tr>\n",
       "  </thead>\n",
       "  <tbody>\n",
       "    <tr>\n",
       "      <th>0</th>\n",
       "      <td>AlexanderGirgis</td>\n",
       "      <td>[Databases-Database Security, Error Handling-E...</td>\n",
       "    </tr>\n",
       "    <tr>\n",
       "      <th>1</th>\n",
       "      <td>Andrew-Lev</td>\n",
       "      <td>[Databases-Database Security, Error Handling-E...</td>\n",
       "    </tr>\n",
       "    <tr>\n",
       "      <th>2</th>\n",
       "      <td>Brainsucker92</td>\n",
       "      <td>[Databases-Database Security, Data Structure-D...</td>\n",
       "    </tr>\n",
       "    <tr>\n",
       "      <th>3</th>\n",
       "      <td>CaptainDaVinci</td>\n",
       "      <td>[Databases-Schema Design, Geographic Informati...</td>\n",
       "    </tr>\n",
       "    <tr>\n",
       "      <th>4</th>\n",
       "      <td>CyraxSector</td>\n",
       "      <td>[Databases-Database Security, Data Structure-D...</td>\n",
       "    </tr>\n",
       "  </tbody>\n",
       "</table>\n",
       "</div>"
      ],
      "text/plain": [
       "  PR_Author_Username                                       Ground_Truth\n",
       "0    AlexanderGirgis  [Databases-Database Security, Error Handling-E...\n",
       "1         Andrew-Lev  [Databases-Database Security, Error Handling-E...\n",
       "2      Brainsucker92  [Databases-Database Security, Data Structure-D...\n",
       "3     CaptainDaVinci  [Databases-Schema Design, Geographic Informati...\n",
       "4        CyraxSector  [Databases-Database Security, Data Structure-D..."
      ]
     },
     "execution_count": 24,
     "metadata": {},
     "output_type": "execute_result"
    }
   ],
   "source": [
    "skills_using_RF = df.groupby( [ 'PR_Author_Username'] )['Ground_Truth'].agg(list).reset_index()\n",
    "skills_using_RF.head()"
   ]
  },
  {
   "cell_type": "code",
   "execution_count": 25,
   "id": "c1f40595-6f1a-4157-8e81-c310ccae227b",
   "metadata": {},
   "outputs": [],
   "source": [
    "skills_using_RF.to_csv(\"output/developer_skills_using_RF_all_repositories.csv\", index = False, header = True, sep=\",\")"
   ]
  },
  {
   "cell_type": "markdown",
   "id": "804485d8-84c7-4554-9e70-a117da6d537f",
   "metadata": {},
   "source": [
    "### using RF"
   ]
  },
  {
   "cell_type": "code",
   "execution_count": 28,
   "id": "c267f8db-7a81-4375-a062-d07fb347a878",
   "metadata": {},
   "outputs": [],
   "source": [
    "df = pd.read_csv( \"output/GT_and_RF_predictions_all_repositories.csv\", delimiter = \"\\a\" )"
   ]
  },
  {
   "cell_type": "code",
   "execution_count": 29,
   "id": "871a5c4a-ea31-4e51-b104-92e9c1c4c784",
   "metadata": {},
   "outputs": [
    {
     "data": {
      "text/html": [
       "<div>\n",
       "<style scoped>\n",
       "    .dataframe tbody tr th:only-of-type {\n",
       "        vertical-align: middle;\n",
       "    }\n",
       "\n",
       "    .dataframe tbody tr th {\n",
       "        vertical-align: top;\n",
       "    }\n",
       "\n",
       "    .dataframe thead th {\n",
       "        text-align: right;\n",
       "    }\n",
       "</style>\n",
       "<table border=\"1\" class=\"dataframe\">\n",
       "  <thead>\n",
       "    <tr style=\"text-align: right;\">\n",
       "      <th></th>\n",
       "      <th>PR_Author_Name</th>\n",
       "      <th>PR_Author_Username</th>\n",
       "      <th>RF_Predictions</th>\n",
       "    </tr>\n",
       "  </thead>\n",
       "  <tbody>\n",
       "    <tr>\n",
       "      <th>0</th>\n",
       "      <td>Ingvar Jackal</td>\n",
       "      <td>IngvarJackal</td>\n",
       "      <td>['Databases-Backup and Recovery', 'Application...</td>\n",
       "    </tr>\n",
       "    <tr>\n",
       "      <th>1</th>\n",
       "      <td>Jörg Lenhard</td>\n",
       "      <td>lenhard</td>\n",
       "      <td>['Databases-Backup and Recovery', 'Application...</td>\n",
       "    </tr>\n",
       "    <tr>\n",
       "      <th>2</th>\n",
       "      <td>Oscar Gustafsson</td>\n",
       "      <td>oscargus</td>\n",
       "      <td>['Software Development and IT Operations-Confi...</td>\n",
       "    </tr>\n",
       "    <tr>\n",
       "      <th>3</th>\n",
       "      <td>Oscar Gustafsson</td>\n",
       "      <td>oscargus</td>\n",
       "      <td>['Databases-Backup and Recovery', 'Application...</td>\n",
       "    </tr>\n",
       "    <tr>\n",
       "      <th>4</th>\n",
       "      <td>Jörg Lenhard</td>\n",
       "      <td>lenhard</td>\n",
       "      <td>['Software Development and IT Operations-Confi...</td>\n",
       "    </tr>\n",
       "  </tbody>\n",
       "</table>\n",
       "</div>"
      ],
      "text/plain": [
       "     PR_Author_Name PR_Author_Username  \\\n",
       "0     Ingvar Jackal       IngvarJackal   \n",
       "1      Jörg Lenhard            lenhard   \n",
       "2  Oscar Gustafsson           oscargus   \n",
       "3  Oscar Gustafsson           oscargus   \n",
       "4      Jörg Lenhard            lenhard   \n",
       "\n",
       "                                      RF_Predictions  \n",
       "0  ['Databases-Backup and Recovery', 'Application...  \n",
       "1  ['Databases-Backup and Recovery', 'Application...  \n",
       "2  ['Software Development and IT Operations-Confi...  \n",
       "3  ['Databases-Backup and Recovery', 'Application...  \n",
       "4  ['Software Development and IT Operations-Confi...  "
      ]
     },
     "execution_count": 29,
     "metadata": {},
     "output_type": "execute_result"
    }
   ],
   "source": [
    "df = df[ [ \"PR_Author_Name\", \"PR_Author_Username\", \"RF_Predictions\" ] ]\n",
    "df.head()"
   ]
  }
 ],
 "metadata": {
  "kernelspec": {
   "display_name": "Main Kernel (Python 3.12)",
   "language": "python",
   "name": "main"
  },
  "language_info": {
   "codemirror_mode": {
    "name": "ipython",
    "version": 3
   },
   "file_extension": ".py",
   "mimetype": "text/x-python",
   "name": "python",
   "nbconvert_exporter": "python",
   "pygments_lexer": "ipython3",
   "version": "3.12.10"
  }
 },
 "nbformat": 4,
 "nbformat_minor": 5
}
